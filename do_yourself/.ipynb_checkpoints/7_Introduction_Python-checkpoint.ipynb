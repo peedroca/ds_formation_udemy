{
 "cells": [
  {
   "cell_type": "code",
   "execution_count": 3,
   "id": "a21414ab-d588-41ea-9ad8-52207a44ea8c",
   "metadata": {},
   "outputs": [
    {
     "name": "stdout",
     "output_type": "stream",
     "text": [
      "6\n",
      "9\n"
     ]
    }
   ],
   "source": [
    "# Amplitude é a diferença entre o maior e o menor valor dentro de um conjunto\n",
    "def amplitude(lst):\n",
    "    return max(lst)-min(lst)\n",
    "\n",
    "print(amplitude([2,5,7,8]))\n",
    "print(amplitude([1,2,3,4,5,6,7,8,9,10]))"
   ]
  },
  {
   "cell_type": "code",
   "execution_count": 7,
   "id": "8b920456-279c-49d9-8b75-40ba87796c0e",
   "metadata": {},
   "outputs": [
    {
     "name": "stdout",
     "output_type": "stream",
     "text": [
      "P\n",
      "e\n",
      "d\n",
      "r\n",
      "o\n"
     ]
    }
   ],
   "source": [
    "def verticalizar(text):\n",
    "    for value in text:\n",
    "        print(value)\n",
    "\n",
    "verticalizar('Pedro')"
   ]
  },
  {
   "cell_type": "code",
   "execution_count": 15,
   "id": "691487ff-dcbe-4cbe-ba88-ef36ff5eebd4",
   "metadata": {},
   "outputs": [
    {
     "name": "stdin",
     "output_type": "stream",
     "text": [
      " 30\n"
     ]
    },
    {
     "name": "stdout",
     "output_type": "stream",
     "text": [
      "O transporte não é aceito\n"
     ]
    }
   ],
   "source": [
    "carga = int(input())\n",
    "\n",
    "if carga <= 10:\n",
    "    print('Valor: R$ 50,00')\n",
    "elif carga >= 11 and carga <= 20:\n",
    "    print('Valor: R$ 80')\n",
    "else:\n",
    "    print('O transporte não é aceito')"
   ]
  }
 ],
 "metadata": {
  "kernelspec": {
   "display_name": "Python 3 (ipykernel)",
   "language": "python",
   "name": "python3"
  },
  "language_info": {
   "codemirror_mode": {
    "name": "ipython",
    "version": 3
   },
   "file_extension": ".py",
   "mimetype": "text/x-python",
   "name": "python",
   "nbconvert_exporter": "python",
   "pygments_lexer": "ipython3",
   "version": "3.9.13"
  }
 },
 "nbformat": 4,
 "nbformat_minor": 5
}
